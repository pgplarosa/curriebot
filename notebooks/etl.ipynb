{
 "cells": [
  {
   "cell_type": "code",
   "execution_count": null,
   "id": "29151dfd-e7a4-4779-8e8c-aa13cf228f88",
   "metadata": {},
   "outputs": [],
   "source": [
    "# !pip install -qq boto3\n",
    "# !pip install -qq openai\n",
    "# !pip install -qq langchain\n",
    "# !pip install -qq python-dotenv\n",
    "# !pip install -qq -U langchain-openai\n",
    "# !pip install -qq chromadb\n",
    "# !pip install -qU langchain-text-splitters\n",
    "# !pip install -qq lark"
   ]
  },
  {
   "cell_type": "code",
   "execution_count": 1,
   "id": "0784333a-e729-4d5e-a08b-5195af65c670",
   "metadata": {},
   "outputs": [],
   "source": [
    "import os\n",
    "import openai\n",
    "import boto3\n",
    "import logging\n",
    "\n",
    "from dotenv import load_dotenv, find_dotenv\n",
    "\n",
    "from langchain_text_splitters import MarkdownHeaderTextSplitter\n",
    "from langchain_text_splitters import RecursiveCharacterTextSplitter\n",
    "from langchain.retrievers.self_query.chroma import ChromaTranslator\n",
    "from langchain_openai import OpenAIEmbeddings\n",
    "from langchain.vectorstores import Chroma\n",
    "from langchain_openai import ChatOpenAI\n",
    "from langchain.retrievers.self_query.base import SelfQueryRetriever\n",
    "from langchain.chains.query_constructor.base import AttributeInfo\n",
    "from langchain.schema.runnable import RunnableMap\n",
    "from langchain.schema.output_parser import StrOutputParser"
   ]
  },
  {
   "cell_type": "code",
   "execution_count": 2,
   "id": "3f07cbdb-6711-4a3f-b205-8b336b3f761e",
   "metadata": {},
   "outputs": [],
   "source": [
    "logging.basicConfig()\n",
    "logger = logging.getLogger()\n",
    "logger.setLevel(logging.INFO)"
   ]
  },
  {
   "cell_type": "code",
   "execution_count": 3,
   "id": "305fe6cb-8fa7-4db5-a4af-6acafbcebf0c",
   "metadata": {},
   "outputs": [],
   "source": [
    "_ = load_dotenv(find_dotenv()) \n",
    "\n",
    "openai.api_key  = os.environ['OPENAI_API_KEY']"
   ]
  },
  {
   "cell_type": "markdown",
   "id": "f3575b12-62b8-4df5-9192-7ddfb1b64d9c",
   "metadata": {},
   "source": [
    "# Extract data"
   ]
  },
  {
   "cell_type": "code",
   "execution_count": 10,
   "id": "6f6c96be-ccf9-43d0-9420-75bddf9c618e",
   "metadata": {},
   "outputs": [],
   "source": [
    "# configs\n",
    "bucket_name = \"plarosa-portfolio-bot\"\n",
    "s3_folder_resume = \"raw/resume/\"\n",
    "repo_name = \"curriebot\"\n",
    "chroma_directory = \"vector_db\"\n",
    "root_dir = os.path.expanduser(\"~\")\n"
   ]
  },
  {
   "cell_type": "code",
   "execution_count": 11,
   "id": "f1c7c4e3-ae19-4cab-96b8-1c5a2670efc5",
   "metadata": {},
   "outputs": [],
   "source": [
    "def download_s3_folder(bucket_name, s3_folder, local_dir):\n",
    "    # Create the local directory if it doesn't exist\n",
    "    if not os.path.exists(local_dir):\n",
    "        os.makedirs(local_dir)\n",
    "    \n",
    "    # Initialize the S3 client\n",
    "    s3 = boto3.client('s3')\n",
    "    \n",
    "    # List all objects in the specified S3 folder\n",
    "    response = s3.list_objects_v2(Bucket=bucket_name, Prefix=s3_folder)\n",
    "    \n",
    "    # Download each object individually\n",
    "    if 'Contents' in response:\n",
    "        for obj in response['Contents']:\n",
    "            file_key = obj['Key']\n",
    "            # Skip directories\n",
    "            if file_key.endswith('/'):\n",
    "                continue\n",
    "            # Define local file path\n",
    "            local_file_path = os.path.join(local_dir, file_key.replace(s3_folder, '').lstrip('/'))\n",
    "            # Create any necessary subdirectories\n",
    "            local_subdir = os.path.dirname(local_file_path)\n",
    "            if not os.path.exists(local_subdir):\n",
    "                os.makedirs(local_subdir)\n",
    "            # Download the file\n",
    "            print(f'Downloading {file_key} to {local_file_path}')\n",
    "            s3.download_file(bucket_name, file_key, local_file_path)\n"
   ]
  },
  {
   "cell_type": "code",
   "execution_count": 12,
   "id": "164ef847-907f-4c66-929e-7c2c5d180a82",
   "metadata": {},
   "outputs": [
    {
     "name": "stdout",
     "output_type": "stream",
     "text": [
      "Downloading raw/resume/La Rosa, Patrick - CV.md to /home/ubuntu/curriebot/raw/resume/La Rosa, Patrick - CV.md\n"
     ]
    }
   ],
   "source": [
    "\n",
    "local_dir_resume = os.path.join(root_dir, repo_name, s3_folder_resume)\n",
    "\n",
    "if not os.path.isdir(local_dir_resume):\n",
    "    os.makedirs(local_dir_resume)\n",
    "\n",
    "download_s3_folder(bucket_name, s3_folder_resume, local_dir_resume)"
   ]
  },
  {
   "cell_type": "markdown",
   "id": "98827f9b-aa5a-47ca-b016-5be8f76e313f",
   "metadata": {},
   "source": [
    "# Transform data"
   ]
  },
  {
   "cell_type": "code",
   "execution_count": 13,
   "id": "be165c31-21d3-48e9-994f-eb41f22f1834",
   "metadata": {},
   "outputs": [],
   "source": [
    "resume_fname = os.listdir(local_dir_resume)\n",
    "resume_path = os.path.join(local_dir_resume, resume_fname[0])"
   ]
  },
  {
   "cell_type": "code",
   "execution_count": 14,
   "id": "d28b26c0-0e9e-42d6-b2c1-8cb0c90b4bf8",
   "metadata": {},
   "outputs": [],
   "source": [
    "with open(resume_path, \"r\", encoding=\"utf-8\") as file:\n",
    "    resume_md = file.read()"
   ]
  },
  {
   "cell_type": "code",
   "execution_count": 15,
   "id": "cfb20981-6095-4368-a39d-0df672b94ccf",
   "metadata": {},
   "outputs": [],
   "source": [
    "\n",
    "headers_to_split_on = [\n",
    "    (\"#\", \"Category\"),\n",
    "    (\"##\", \"Company Name\")\n",
    "]\n",
    "\n",
    "markdown_splitter = MarkdownHeaderTextSplitter(headers_to_split_on=headers_to_split_on, strip_headers=False)\n",
    "md_header_splits = markdown_splitter.split_text(resume_md)\n",
    "\n",
    "# Char-level split\n",
    "chunk_size = 800\n",
    "chunk_overlap = 100\n",
    "text_splitter = RecursiveCharacterTextSplitter(\n",
    "    chunk_size=chunk_size, chunk_overlap=chunk_overlap\n",
    ")\n",
    "\n",
    "# Split\n",
    "splits = text_splitter.split_documents(md_header_splits)"
   ]
  },
  {
   "cell_type": "markdown",
   "id": "d510afc0-a516-4962-95c9-cc5eba260a21",
   "metadata": {},
   "source": [
    "# Load data"
   ]
  },
  {
   "cell_type": "code",
   "execution_count": 16,
   "id": "2c5f7087-7251-4cc0-9587-f1137102e88b",
   "metadata": {},
   "outputs": [],
   "source": [
    "embedding = OpenAIEmbeddings()"
   ]
  },
  {
   "cell_type": "code",
   "execution_count": 17,
   "id": "4e52ec1e-c3e5-417f-abed-f9042fa808f5",
   "metadata": {},
   "outputs": [],
   "source": [
    "vector_db_path = os.path.join(root_dir, repo_name, chroma_directory)"
   ]
  },
  {
   "cell_type": "code",
   "execution_count": 18,
   "id": "678cd3ef-2fe2-4076-a4de-da1f6a69ee32",
   "metadata": {},
   "outputs": [
    {
     "name": "stderr",
     "output_type": "stream",
     "text": [
      "INFO:chromadb.telemetry.product.posthog:Anonymized telemetry enabled. See                     https://docs.trychroma.com/telemetry for more information.\n",
      "INFO:httpx:HTTP Request: POST https://api.openai.com/v1/embeddings \"HTTP/1.1 200 OK\"\n",
      "/home/ubuntu/.conda/envs/curriebot_nb/lib/python3.9/site-packages/langchain_core/_api/deprecation.py:119: LangChainDeprecationWarning: Since Chroma 0.4.x the manual persistence method is no longer supported as docs are automatically persisted.\n",
      "  warn_deprecated(\n"
     ]
    }
   ],
   "source": [
    "vectordb = Chroma.from_documents(\n",
    "    documents=splits,\n",
    "    embedding=embedding,\n",
    "    persist_directory=vector_db_path\n",
    ")\n",
    "vectordb.persist()"
   ]
  },
  {
   "cell_type": "code",
   "execution_count": null,
   "id": "fdba89a0-3a9e-498a-b0a9-e32198805195",
   "metadata": {},
   "outputs": [],
   "source": []
  }
 ],
 "metadata": {
  "kernelspec": {
   "display_name": "Python 3 (ipykernel)",
   "language": "python",
   "name": "python3"
  },
  "language_info": {
   "codemirror_mode": {
    "name": "ipython",
    "version": 3
   },
   "file_extension": ".py",
   "mimetype": "text/x-python",
   "name": "python",
   "nbconvert_exporter": "python",
   "pygments_lexer": "ipython3",
   "version": "3.9.19"
  }
 },
 "nbformat": 4,
 "nbformat_minor": 5
}
