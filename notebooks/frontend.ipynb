{
 "cells": [
  {
   "cell_type": "code",
   "execution_count": 1,
   "id": "04abda4a-526e-4e65-95bb-4c516c5c43ad",
   "metadata": {},
   "outputs": [],
   "source": [
    "# !pip install -qq gradio==3.48.0\n",
    "# !pip install -qq fastapi==0.111.0"
   ]
  },
  {
   "cell_type": "code",
   "execution_count": 2,
   "id": "667748eb-7111-494f-9aa2-e1ea86ea53b1",
   "metadata": {},
   "outputs": [],
   "source": [
    "# need to copy all py scripts in the same directory\n",
    "import os\n",
    "import logging\n",
    "import openai\n",
    "import gradio as gr\n",
    "import pickle\n",
    "from datetime import datetime\n",
    "from langchain_openai import ChatOpenAI\n",
    "\n",
    "from curriebot import get_agent_executor"
   ]
  },
  {
   "cell_type": "code",
   "execution_count": 3,
   "id": "34052687-9fd6-4628-87bc-6d5a73995237",
   "metadata": {},
   "outputs": [],
   "source": [
    "logging.basicConfig()\n",
    "logger = logging.getLogger()\n",
    "logger.setLevel(logging.INFO)"
   ]
  },
  {
   "cell_type": "code",
   "execution_count": 4,
   "id": "a9d669bb-5a8e-4f65-98ad-47fd8e8dfe85",
   "metadata": {},
   "outputs": [],
   "source": [
    "intro_message = \"\"\"**Meet Curriebot, your personal career companion! \n",
    "Curriebot is here to help you navigate through my professional journey/\"Curri\"culum vitae, \n",
    "answering all your questions about my resume or personal projects. \n",
    "Whether you're curious about the details of my project or want insights into my skill set, \n",
    "Curriebot is ready to chat. Friendly and knowledgeable, \n",
    "Curriebot makes learning about my professional life both easy and enjoyable. \n",
    "Let's get the conversation started!**\"\"\""
   ]
  },
  {
   "cell_type": "code",
   "execution_count": 5,
   "id": "cf8d9347-ac6e-4f99-a81a-29c88dc7c99b",
   "metadata": {},
   "outputs": [],
   "source": [
    "assitant_initial_message = \"\"\"Hi, my name is Curriebot. Thank you for stopping by. \n",
    "I'm here to assist you with any questions about Patrick's resume or projects. How can I help you today?\"\"\""
   ]
  },
  {
   "cell_type": "code",
   "execution_count": 21,
   "id": "874186a7-57b9-4536-aa7d-d5c5377a5fe4",
   "metadata": {},
   "outputs": [],
   "source": [
    "css = \"\"\"\n",
    "#image-container {\n",
    "    display: flex;\n",
    "    justify-content: center;  # Centers the child horizontally\n",
    "    width: 100%;  # Ensures the container takes full width\n",
    "}\n",
    "img {\n",
    "    max-width: 100%;  # Ensures the image scales down if it's too wide\n",
    "}\n",
    "\"\"\"\n",
    "\n",
    "def clear_memory_agent():\n",
    "    global agent_executor\n",
    "    agent_executor = get_agent_executor()\n",
    "\n",
    "def start_chat(api_key):\n",
    "    global agent_executor\n",
    "    try:\n",
    "        os.environ[\"OPENAI_API_KEY\"] = api_key\n",
    "        openai.api_key = os.getenv(\"OPENAI_API_KEY\")\n",
    "        llm = ChatOpenAI(model=\"gpt-3.5-turbo-0125\", temperature=0)\n",
    "        print(llm.invoke(\"hi\"))\n",
    "        gr.Info(\"openai api key authentication successful!\")\n",
    "        \n",
    "        agent_executor = get_agent_executor()\n",
    "        return {\n",
    "            start_col: gr.Column(visible=False),\n",
    "            chat_col : gr.Column(visible=True),\n",
    "        }\n",
    "    except Exception as e:\n",
    "        raise gr.Error(\"Please double check your openai api key!\")\n",
    "\n",
    "    \n",
    "\n",
    "def respond(message, chat_history):\n",
    "        result = agent_executor.invoke({\"input\": message})\n",
    "        chat_history.append((result[\"input\"], result[\"output\"]))\n",
    "        \n",
    "        return \"\", chat_history\n",
    "\n",
    "with gr.Blocks(\n",
    "    theme=gr.themes.Default(\n",
    "        font=gr.themes.GoogleFont(\"Source Sans Pro\"),\n",
    "        font_mono=gr.themes.GoogleFont(\"Source Sans Pro\"),\n",
    "    ),\n",
    "    css=css\n",
    ") as demo:\n",
    "    agent_executor = None\n",
    "    with gr.Row():\n",
    "        # Wrapping the image in a div with flex properties\n",
    "        with gr.Column():\n",
    "            gr.Image(\"banner_resize.png\", elem_id=\"image-container\")\n",
    "    gr.Markdown(intro_message)\n",
    "    gr.Markdown(\"Before we begin. Please enter your openai api key. Don't worry I will not save it for personal use\")\n",
    "    \n",
    "    with gr.Row(visible=True) as start_row:\n",
    "        with gr.Column(visible=True) as start_col:\n",
    "            api_key = gr.Textbox(label=\"Enter openai api key here\", type=\"password\")\n",
    "            start_button = gr.Button(\"Start Chat!\")\n",
    "\n",
    "    with gr.Row(visible=True) as chat_row:\n",
    "        with gr.Column(visible=False) as chat_col:\n",
    "            chatbot = gr.Chatbot([(None, assitant_initial_message)]).style(height=500)\n",
    "            msg = gr.Textbox()\n",
    "            clear = gr.ClearButton([msg, chatbot])\n",
    "\n",
    "    \n",
    "    start_button.click(\n",
    "        fn=start_chat, inputs=[api_key], outputs=[start_col, chat_col]\n",
    "    )\n",
    "\n",
    "    clear.click(fn=clear_memory_agent)\n",
    "    \n",
    "    msg.submit(respond, [msg, chatbot], [msg, chatbot])\n",
    "\n",
    "    \n",
    "\n",
    "demo.launch(share=True, debug=True, enable_queue=True).queue()\n"
   ]
  },
  {
   "cell_type": "code",
   "execution_count": null,
   "id": "4f8de69b-3fbc-4658-be98-52e23144ba6e",
   "metadata": {},
   "outputs": [],
   "source": []
  },
  {
   "cell_type": "code",
   "execution_count": null,
   "id": "9b46c6fa-a0a0-405c-8b49-e7daeb22bc31",
   "metadata": {},
   "outputs": [],
   "source": []
  }
 ],
 "metadata": {
  "kernelspec": {
   "display_name": "Python 3 (ipykernel)",
   "language": "python",
   "name": "python3"
  },
  "language_info": {
   "codemirror_mode": {
    "name": "ipython",
    "version": 3
   },
   "file_extension": ".py",
   "mimetype": "text/x-python",
   "name": "python",
   "nbconvert_exporter": "python",
   "pygments_lexer": "ipython3",
   "version": "3.9.19"
  }
 },
 "nbformat": 4,
 "nbformat_minor": 5
}
