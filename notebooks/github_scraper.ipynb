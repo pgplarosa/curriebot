{
 "cells": [
  {
   "cell_type": "code",
   "execution_count": 10,
   "id": "c03f0295-8d89-44b4-af89-b6a2d1719e2a",
   "metadata": {},
   "outputs": [],
   "source": [
    "import os\n",
    "import requests\n",
    "import pandas as pd"
   ]
  },
  {
   "cell_type": "code",
   "execution_count": 11,
   "id": "7c68ea94-dce2-4512-bb27-08c65abb14cc",
   "metadata": {},
   "outputs": [],
   "source": [
    "def get_github_profile_details(username):\n",
    "    # Endpoint to get user details\n",
    "    user_url = f\"https://api.github.com/users/{username}\"\n",
    "    response = requests.get(user_url)\n",
    "    user_details = response.json()\n",
    "\n",
    "    # Endpoint to get user repositories\n",
    "    repos_url = f\"https://api.github.com/users/{username}/repos\"\n",
    "    response = requests.get(repos_url)\n",
    "    repos_details = response.json()\n",
    "\n",
    "    # Collecting repository details including topics\n",
    "    repositories = []\n",
    "    for repo in repos_details:\n",
    "        repo_topics_url = f\"https://api.github.com/repos/{username}/{repo['name']}/topics\"\n",
    "        headers = {'Accept': 'application/vnd.github.mercy-preview+json'}  \n",
    "        topics_response = requests.get(repo_topics_url, headers=headers)\n",
    "        topics_details = topics_response.json().get('names', [])  \n",
    "\n",
    "        repositories.append({\n",
    "            \"name\": repo[\"name\"],\n",
    "            \"url\": repo[\"html_url\"],\n",
    "            \"description\": repo[\"description\"],\n",
    "            \"stars\": repo[\"stargazers_count\"],\n",
    "            \"topics\": topics_details\n",
    "        })\n",
    "\n",
    "    return {\n",
    "        \"user_details\": user_details,\n",
    "        \"repositories\": repositories\n",
    "    }\n"
   ]
  },
  {
   "cell_type": "code",
   "execution_count": 12,
   "id": "df1e9dcf-e370-4ae5-8dd8-cb127426efb6",
   "metadata": {},
   "outputs": [],
   "source": [
    "profile_info = get_github_profile_details(\"pgplarosa\")"
   ]
  },
  {
   "cell_type": "code",
   "execution_count": 13,
   "id": "286ac3e6-040a-4141-b979-677afe305c5c",
   "metadata": {},
   "outputs": [],
   "source": [
    "repo_details = pd.DataFrame(profile_info[\"repositories\"])"
   ]
  },
  {
   "cell_type": "code",
   "execution_count": 15,
   "id": "3854340e-4041-48f7-8472-034d3294b32e",
   "metadata": {},
   "outputs": [],
   "source": [
    "# configs\n",
    "root_dir = os.path.expanduser(\"~\")\n",
    "github_path = \"curriebot/raw/github/\"\n",
    "github_full_path = os.path.join(root_dir, github_path)\n",
    "\n",
    "if not os.path.isdir(github_full_path):\n",
    "    os.makedirs(github_full_path)\n",
    "    \n",
    "repo_details.to_csv(os.path.join(github_full_path, \"github_summary.csv\"), index=False)"
   ]
  }
 ],
 "metadata": {
  "kernelspec": {
   "display_name": "Python 3 (ipykernel)",
   "language": "python",
   "name": "python3"
  },
  "language_info": {
   "codemirror_mode": {
    "name": "ipython",
    "version": 3
   },
   "file_extension": ".py",
   "mimetype": "text/x-python",
   "name": "python",
   "nbconvert_exporter": "python",
   "pygments_lexer": "ipython3",
   "version": "3.9.19"
  }
 },
 "nbformat": 4,
 "nbformat_minor": 5
}
